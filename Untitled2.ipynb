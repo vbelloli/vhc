{
 "cells": [
  {
   "cell_type": "code",
   "execution_count": null,
   "metadata": {},
   "outputs": [],
   "source": [
    "import ldap3"
   ]
  },
  {
   "cell_type": "code",
   "execution_count": 270,
   "metadata": {},
   "outputs": [],
   "source": [
    "server = ldap3.Server('dc01.oorrbg.local', get_info = ldap3.ALL)\n",
    "\n",
    "connection = ldap3.Connection(\n",
    "    server = server, \n",
    "    user = 'UtentePython@oorrbg.local', \n",
    "    password = '12345678__', \n",
    "    authentication = ldap3.SIMPLE,\n",
    "    auto_bind = True\n",
    ")"
   ]
  },
  {
   "cell_type": "code",
   "execution_count": 331,
   "metadata": {},
   "outputs": [
    {
     "name": "stdout",
     "output_type": "stream",
     "text": [
      "protocolCfgSMTPServer Object Class: 1.2.840.113556.1.5.7000.62.5002\n",
      "  Short name: protocolCfgSMTPServer\n",
      "  May contain attributes: msExchNTAuthenticationProviders, msExchSmtpSmartHost, msExchSmtpRelayForAuth, msExchSmtpOutboundSecurityFlag, msExchSmtpMaxOutgoingConnections, msExchAccessFlags, msExchSmtpDropDirectory, msExchServerAutoStart, msExchSmtpOutgoingConnectionTimeout, msExchAlternateServer, msExchSmtpLocalQueueExpirationTimeout, msExchSmtpOutboundSecurityPassword, msExchSmtpOutgoingSecurePort, msExchBridgeheadedRemoteConnectorsDNBL, msExchMaxIncomingConnections, msExchSmtpExternalDNSServers, msExchIncomingConnectionTimeout, msExchServerBindings, msExchSmtpQueueDirectory, msExchSmtpDoMasquerade, msExchLogType, msExchEncryptedPassword, msExchSmtpOutboundSecurityUserName, msExchSmtpBadMailDirectory, msExchSmtpPickupDirectory, msExchSmtpRemoteQueueRetries, msExchHomeRoutingGroupDNBL, msExchSmtpMaxSessionSize, msExchBridgeheadedLocalConnectorsDNBL, msExchSmtpMaxOutgoingConnectionsPerDomain, msExchSmtpSmartHostType, msExchSmtpFullyQualifiedDomainName, msExchSmtpMaxHopCount, msExchSmtpRemoteQueueExpirationTimeout, msExchSmtpRelayIpList, msExchSecureBindings, msExchSmtpLocalQueueDelayNotification, msExchAuthenticationFlags, msExchSecurityPassword, msExchAdminACL, msExchSmtpOutgoingPort, msExchIPSecurity, msExchSmtpInboundCommandSupportOptions, msExchSmtpMaxOutboundMsgPerDomainFlag, msExchSmtpMaxOutboundMsgPerDomain, msExchAuthMailDisposition, msExchSmtpPerformReverseDnsLookup, msExchSaslLogonDomain, msExchSmtpSendBadmailTo, msExchSmtpMaxRecipients, msExchSmtpEnableEXPN, msExchDefaultDomain, msExchSmtpMaxMessageSize, msExchAccessSSLFlags, msExchServerBindingsTurflist, msExchSubmitRelaySD, msExchSmtpMasqueradeDomain, msExchAppliesToSmtpVSBL, msExchSmtpEnableVRFY, msExchServerBindingsFiltering, msExchSmtpSendNDRTo, msExchSmtpRemoteQueueDelayNotification\n",
      "\n",
      "msExchConferenceSite Object Class: 1.2.840.113556.1.5.7000.62.9001\n",
      "  Short name: msExchConferenceSite\n",
      "  May contain attributes: displayName, wWWHomePage, serverName, objectCount, msExchGracePeriodPrior, msExchAuditFlags, msExchAvailableServers, msExchConferenceMailbox, msExchAllowAdditionalResources, msExchAllowTimeExtensions, msExchConferenceZone, msExchGracePeriodAfter\n",
      "\n",
      "computer Object Class: 1.2.840.113556.1.3.30\n",
      "  Short name: computer\n",
      "  May contain attributes: cn, networkAddress, localPolicyFlags, defaultLocalPolicyObject, machineRole, location, netbootInitialization, netbootGUID, netbootMachineFilePath, siteGUID, operatingSystem, operatingSystemVersion, operatingSystemServicePack, operatingSystemHotfix, volumeCount, physicalLocationObject, dNSHostName, policyReplicationFlags, managedBy, rIDSetReferences, catalogs, netbootSIFFile, netbootMirrorDataFile, msDS-AdditionalDnsHostName, msDS-AdditionalSamAccountName, msDS-ExecuteScriptPassword, msDS-KrbTgtLink, msDS-RevealedUsers, msDS-NeverRevealGroup, msDS-RevealOnDemandGroup, msDS-RevealedList, msDS-AuthenticatedAtDC, msDS-isGC, msDS-isRODC, msDS-SiteName, msDS-PromotionSettings, msTPM-OwnerInformation, msTSProperty01, msTSProperty02, msDS-IsUserCachableAtRodc, msDS-HostServiceAccount, msTSEndpointData, msTSEndpointType, msTSEndpointPlugin, msTSPrimaryDesktopBL, msTSSecondaryDesktopBL, msTPM-TpmInformationForComputer, msDS-GenerationId, msImaging-ThumbprintHash, msImaging-HashAlgorithm, netbootDUID, monitoringCachedViaRPC, monitoringMailUpdateInterval, msSFU30NisDomain, msExchComponentStates, type, monitoringCachedViaMail, nisMapName, monitoringMailUpdateUnits, monitoringAvailabilityStyle, msSFU30Name, logRolloverInterval, monitoredServices, monitoringRPCUpdateUnits, monitoringAvailabilityWindow, securityProtocol, promoExpiration, msSFU30Aliases, msExchPolicyList, monitoringRPCUpdateInterval, msExchPolicyOptionList, monitoredConfigurations, trackingLogPathName, msExchExchangeServerLink\n",
      "\n",
      "server Object Class: 1.2.840.113556.1.5.17\n",
      "  Short name: server\n",
      "  May contain attributes: serialNumber, networkAddress, serverReference, dNSHostName, managedBy, mailAddress, bridgeheadTransportList, msDS-isGC, msDS-isRODC, msDS-SiteName, msDS-IsUserCachableAtRodc, type, activationStyle, activationSchedule\n",
      "\n",
      "msExchUMRecipientTemplate Object Class: 1.2.840.113556.1.5.7000.62.50051\n",
      "  Short name: msExchUMRecipientTemplate\n",
      "  May contain attributes: msExchUMVoiceMailText, msExchUMProtectUnauthenticatedVoiceMail, msExchUMProtectedVoiceMailText, msExchUMMissedCallText, msExchVoiceMailPreviewPartnerAssignedID, msExchUMTemplateBL, msExchUMLogonFailuresBeforePINReset, msExchUMPinPolicyDisallowCommonPatterns, msExchUMEnabledText, msExchUMFaxMessageText, msExchUMEnabledFlags, msExchUMExtensionLengthNumbersAllowed, msExchUMPinPolicyAccountLockoutFailures, msExchUMAllowedInCountryGroups, msExchUMAllowedInternationalGroups, msExchVoiceMailPreviewPartnerMaxMessageDuration, msExchUMPinPolicyNumberOfPreviousPasswordsDisallowed, msExchVoiceMailPreviewPartnerAddress, msExchUMOperatorNumber, msExchUMFaxId, msExchUMMailboxPolicyDialPlanLink, msExchUMRequireProtectedPlayOnPhone, msExchVoiceMailPreviewPartnerMaxDeliveryDelay, msExchUMResetPINText, msExchUMProtectAuthenticatedVoiceMail, msExchUMPinPolicyMinPasswordLength, msExchUMFaxServerURI, msExchUMEnabledFlags2, msExchUMDialPlanSubscribersAllowed, msExchUMSourceForestPolicyNames, msExchUMMaxGreetingDuration, msExchUMPinPolicyExpiryDays\n",
      "\n",
      "top Object Class: 2.5.6.0\n",
      "  Short name: top\n",
      "  Must contain attributes: objectClass, instanceType, nTSecurityDescriptor, objectCategory\n",
      "  May contain attributes: cn, description, distinguishedName, whenCreated, whenChanged, subRefs, displayName, uSNCreated, isDeleted, dSASignature, objectVersion, repsTo, repsFrom, memberOf, ownerBL, uSNChanged, uSNLastObjRem, showInAdvancedViewOnly, adminDisplayName, proxyAddresses, adminDescription, extensionName, uSNDSALastObjRemoved, displayNamePrintable, directReports, wWWHomePage, USNIntersite, name, objectGUID, replPropertyMetaData, replUpToDateVector, flags, revision, wbemPath, fSMORoleOwner, systemFlags, siteObjectBL, serverReferenceBL, nonSecurityMemberBL, queryPolicyBL, wellKnownObjects, isPrivilegeHolder, partialAttributeSet, managedObjects, partialAttributeDeletionList, url, lastKnownParent, bridgeheadServerListBL, netbootSCPBL, isCriticalSystemObject, frsComputerReferenceBL, fRSMemberReferenceBL, uSNSource, fromEntry, allowedChildClasses, allowedChildClassesEffective, allowedAttributes, allowedAttributesEffective, possibleInferiors, canonicalName, proxiedObjectName, sDRightsEffective, dSCorePropagationData, otherWellKnownObjects, mS-DS-ConsistencyGuid, mS-DS-ConsistencyChildCount, masteredBy, msCOM-PartitionSetLink, msCOM-UserLink, msDS-Approx-Immed-Subordinates, msDS-NCReplCursors, msDS-NCReplInboundNeighbors, msDS-NCReplOutboundNeighbors, msDS-ReplAttributeMetaData, msDS-ReplValueMetaData, msDS-NonMembersBL, msDS-MembersForAzRoleBL, msDS-OperationsForAzTaskBL, msDS-TasksForAzTaskBL, msDS-OperationsForAzRoleBL, msDS-TasksForAzRoleBL, msDs-masteredBy, msDS-ObjectReferenceBL, msDS-PrincipalName, msDS-RevealedDSAs, msDS-KrbTgtLinkBl, msDS-IsFullReplicaFor, msDS-IsDomainFor, msDS-IsPartialReplicaFor, msDS-AuthenticatedToAccountlist, msDS-NC-RO-Replica-Locations-BL, msDS-RevealedListBL, msDS-PSOApplied, msDS-NcType, msDS-OIDToGroupLinkBl, msDS-HostServiceAccountBL, isRecycled, msDS-LocalEffectiveDeletionTime, msDS-LocalEffectiveRecycleTime, msDS-LastKnownRDN, msDS-EnabledFeatureBL, msDS-ClaimSharesPossibleValuesWithBL, msDS-MembersOfResourcePropertyListBL, msDS-IsPrimaryComputerFor, msDS-ValueTypeReferenceBL, msDS-TDOIngressBL, msDS-TDOEgressBL, msDS-parentdistname, msDS-ReplValueMetaDataExt, msds-memberOfTransitive, msds-memberTransitive, structuralObjectClass, createTimeStamp, modifyTimeStamp, subSchemaSubEntry, msExchMobileRemoteDocumentsBlockedServersBL, msExchEvictedMemebersBL, msExchOWAForceSaveMIMETypesBL, msExchOWABlockedMIMETypesBL, msExchOWATranscodingMimeTypesBL, msExchHygieneConfigurationSpamBL, msExchMailboxMoveTargetUserBL, msExchArchiveDatabaseBL, msExchServerAssociationBL, msExchHygieneConfigurationMalwareBL, msExchOWAAllowedMimeTypesBL, msExchOWATranscodingFileTypesBL, msExchOWAForceSaveFileTypesBL, msExchUGEventSubscriptionBL, msSFU30PosixMemberOf, msExchSupervisionUserBL, msExchUGMemberBL, msExchMultiMailboxDatabasesBL, msExchAvailabilityPerUserAccountBL, msExchMultiMailboxLocationsBL, msExchAvailabilityOrgWideAccountBL, msExchDeviceAccessControlRuleBL, msExchOABGeneratingMailboxBL, msExchMailboxMoveSourceArchiveMDBBL, msExchMailboxMoveSourceMDBBL, msExchOrganizationsAddressBookRootsBL, msOrg-LeadersBL, msExchRMSComputerAccountsBL, msExchAdministrativeUnitBL, msExchDelegateListBL, msExchHABRootDepartmentBL, msExchDataEncryptionPolicyBL, msExchSupervisionOneOffBL, msExchRBACPolicyBL, msExchMailboxMoveStorageMDBBL, msExchOWARemoteDocumentsBlockedServersBL, msExchCatchAllRecipientBL, msExchIntendedMailboxPlanBL, msExchOWABlockedFileTypesBL, msExchAssociatedAcceptedDomainBL, msDFSR-MemberReferenceBL, msExchTrustedDomainBL, msExchAcceptedDomainBL, msExchUserBL, msExchOWAAllowedFileTypesBL, msExchOWARemoteDocumentsAllowedServersBL, msExchOWARemoteDocumentsInternalDomainSuffixListBL, msExchMobileRemoteDocumentsInternalDomainSuffixListBL, msExchSMTPReceiveDefaultAcceptedDomainBL, msExchAuthPolicyBL, msExchMailboxMoveTargetArchiveMDBBL, msExchParentPlanBL, msExchMDBAvailabilityGroupConfigurationBL, msExchOrganizationsTemplateRootsBL, msExchMailboxMoveTargetMDBBL, msExchOrganizationsGlobalAddressListsBL, msExchAccountForestBL, msDFSR-ComputerReferenceBL, msExchMailboxMoveSourceUserBL, msExchMobileRemoteDocumentsAllowedServersBL, msExchAuxMailboxParentObjectIdBL, msExchTransportRuleTargetBL, msExchServerSiteBL, msExchSupervisionDLBL\n",
      "  OidInfo: ('2.5.6.0', 'OBJECT_CLASS', 'top', 'RFC4512')\n",
      "\n",
      "msExchOrganizationContainer Object Class: 1.2.840.113556.1.5.7000.62.50020\n",
      "  Short name: msExchOrganizationContainer\n",
      "  May contain attributes: msExchMailTipsLargeAudienceThreshold, msExchDistributionGroupNameBlockedWordsList, msExchDistributionGroupNamingPolicy, delivContLength, msExchHABRootDepartmentLink, msExchUMAvailableLanguages, msExchForeignForestRecipientAdminUSGSid, msExchSharedConfigServicePlanTag, msExchCustomerFeedbackEnabled, msExchSharedConfigBL, msExchServerGroups, submissionContLength, pFContacts, msExchNotificationAddress, msExchServiceEndPointURL, msExchJournalingRulesLink, msExchIndustry, msExchMSOForwardSyncAsyncOperationIds, msExchActivityBasedAuthenticationTimeoutInterval, msExchWebAccessName, mDBOverQuotaLimit, msExchDataEncryptionPolicyLink, msExchResourceAddressLists, msExchOrganizationFlags2, msExchOverallAgeLimit, msExchPublicFolderMovedItemRetention, heuristics, msExchMaxABP, msExchAdmins, msExchSIPAccessService, msExchSupportedSharedConfigBL, msExchForeignForestFQDN, msExchForeignForestReadOnlyAdminUSGSid, msExchELCOrganizationalRootURL, msExchCustomerFeedbackURL, msExchMaxOAB, msExchDisableUDGConversion, mDBStorageQuota, msExchSignupAddressesEnabled, msExchServerLocalGroups, msExchMailTipsSettings, msExchAdminGroupsEnabled, msExchProductID, msExchForeignForestPublicFolderAdminUSGSid, msExchRoutingEnabled, msExchSetupStatus, msExchAdfsAuthenticationRawConfiguration, mDBOverHardQuotaLimit, msExchOrganizationSummary, msExchSetupTime, msExchMimeTypes, msExchMinAdminVersion, msExchWACDiscoveryEndpoint, msExchForeignForestOrgAdminUSGSid, msExchAVAuthenticationService, msExchSIPSBCService, msExchServerGlobalGroups, msExchOrganizationFlags, msExchAddressListPagingEnabled, msExchMaxSignupAddressesPerUser, msExchNotificationEnabled, msExchRecipLimit, msExchMixedMode, msExchPublicFolderDeletedItemRetention, msExchDistributionGroupDefaultOU, msExchSupportedSharedConfigLink, msExchSharedConfigLink\n",
      "\n",
      "msExchUMAutoAttendant Object Class: 1.2.840.113556.1.5.7000.62.50054\n",
      "  Short name: msExchUMAutoAttendant\n",
      "  May contain attributes: msExchUMTimeZone, msExchUMCallSomeoneScope, msExchUMDisambiguationField, msExchUMAvailableLanguages, msExchUMAutoAttendantDialedNumbers, msExchUMSendVoiceMessageScope, msExchUMAutoAttendantAfterHourFeatures, msExchUMExtensionLengthNumbersAllowed, msExchUMAllowedInCountryGroups, msExchUMDTMFFallbackAutoAttendantBL, msExchUMAllowedInternationalGroups, msExchUMOperatorExtension, msExchUMAutoAttendantBusinessHourFeatures, msExchUMAutoAttendantBusinessHourSchedule, msExchUMASREnabled, msExchUMAutoAttendantDialPlanLink, msExchUMAutoAttendantPromptChangeKey, msExchUMSendVoiceMessageEnabled, msExchUMAutoAttendantFlags, msExchUMAutoAttendantTimeZone, msExchUMQueryBaseDN, msExchUMBusinessLocation, msExchUMDialPlanSubscribersAllowed, msExchUMDialPlanDefaultAutoAttendantBL, msExchUMDTMFFallbackAutoAttendantLink, msExchUMInfoAnnouncementFile, msExchUMWeekStartDay, msExchUMDefaultMailbox, msExchUMCallSomeoneEnabled, msExchUMAutoAttendantHolidaySchedule, msExchUMBusinessName, msExchUMInfoAnnouncementStatus\n",
      "\n",
      "inetOrgPerson Object Class: 2.16.840.1.113730.3.2.2\n",
      "  Short name: inetOrgPerson\n",
      "  May contain attributes: o, businessCategory, userCertificate, givenName, initials, x500uniqueIdentifier, displayName, employeeNumber, employeeType, homePostalAddress, userSMIMECertificate, uid, mail, roomNumber, photo, manager, homePhone, secretary, mobile, pager, audio, jpegPhoto, carLicense, departmentNumber, preferredLanguage, userPKCS12, labeledURI\n",
      "\n",
      "msExchMobileMailboxPolicy Object Class: 1.2.840.113556.1.5.7000.62.50084\n",
      "  Short name: msExchMobileMailboxPolicy\n",
      "  May contain attributes: msExchMobileUnapprovedInROMApplicationList, msExchMobileApprovedApplicationList, msExchMobileAdditionalFlags, msExchMobileRequireSignedSMIMEAlgorithm, msExchMobileDeviceNumberOfPreviousPasswordsDisallowed, msExchMobileFlags, msExchMobileMaxEmailDays, msExchMobileMinDevicePasswordLength, msExchMobileMaxCalendarDays, msExchMobileMailboxPolicyBL, msExchMobileMaxEmailAgeFilter, msExchMobileMinDevicePasswordComplexCharacters, msExchMobileAllowBluetooth, msExchMobileRemoteDocumentsInternalDomainSuffixList, msExchMobileMaxEmailHTMLBodyTruncationSize, msExchMobileMaxInactivityTimeDeviceLock, msExchMobileRequireEncryptionSMIMEAlgorithm, msExchMobileMaxDevicePasswordFailedAttempts, msExchMobileInitialMaxAttachmentSize, msExchMobileMaxEmailBodyTruncationSize, msExchMobileMaxCalendarAgeFilter, msExchMobileOTAUpdateMode, msExchMobilePolicySalt, msExchMobileAllowSMIMEEncryptionAlgorithmNegotiation, msExchMobileRemoteDocumentsAllowedServers, msExchMobileRemoteDocumentsBlockedServers, msExchMobileDefaultEmailTruncationSize, msExchMobileDevicePolicyRefreshInterval, msExchMobileDevicePasswordExpiration\n",
      "\n",
      "protocolCfgSMTPRoutingSources Object Class: 1.2.840.113556.1.5.7000.62.5005\n",
      "  Short name: protocolCfgSMTPRoutingSources\n",
      "  May contain attributes: msExchSmtpLdapNamingContext, msExchSmtpDsDataDirectory, msExchSmtpDsPort, msExchSmtpDsHost, msExchSmtpLdapBindType, msExchSmtpDsDefaultMailRoot, msExchSmtpDsDomain, msExchSmtpDsFlags, msExchSmtpLdapAccount, msExchSmtpLdapSchemaType, msExchSmtpLdapPassword, msExchSmtpRoutingTableType, msExchMinAdminVersion, msExchSmtpEnableLdapRouting\n",
      "\n",
      "msExchMDBAvailabilityGroup Object Class: 1.2.840.113556.1.5.7000.62.50102\n",
      "  Short name: msExchMDBAvailabilityGroup\n",
      "  May contain attributes: msExchThirdPartySynchronousReplication, msExchAutoDAGParamTotalNumberOfServers, msExchAlternateFileShareWitnessDirectory, msExchAutoDAGParamDatabaseCopiesPerVolume, msExchMDBAvailabilityGroupName, msExchFileShareWitnessDirectory, msExchAutoDAGParamDatabasesRootFolderPath, msExchMDBAvailabilityGroupNetworkSettings, msExchAutoDAGParamVolumesRootFolderPath, msExchMDBAvailabilityGroupConfigurationLink, msExchMDBAvailabilityGroupBL, msExchAutoDAGParamDatabaseCopiesPerDatabase, msExchAllowCrossSiteRPCClientAccess, msExchDatacenterActivationMode, msExchAutoDAGParamFailedVolumesRootFolderPath, msExchStoppedMailboxServers, msExchAutoDAGParamTotalNumberOfDatabases, msExchAlternateFileShareWitness, msExchMDBAvailabilityGroupReplicationPort, msExchEvictedMembersLink, msExchAutoDAGParamFlags, msExchMDBAvailabilityGroupIPv4Addresses, msExchMinAdminVersion, msExchStartedMailboxServers, msExchAutoDAGSchemaVersion, msExchFileShareWitness\n",
      "\n",
      "msExchMobileMailboxSettings Object Class: 1.2.840.113556.1.5.7000.62.50148\n",
      "  Short name: msExchMobileMailboxSettings\n",
      "  May contain attributes: msExchMobileUserMailInsert, msExchMobileAccessControl, msExchMobileAdminRecipients, msExchMobileOTANotificationMailInsert, msExchMobileOTANotificationMailInsert2\n",
      "\n",
      "msExchApprovalApplication Object Class: 1.2.840.113556.1.5.7000.62.50114\n",
      "  Short name: msExchApprovalApplication\n",
      "  May contain attributes: msExchRetentionPolicyTag, msExchArbitrationMailboxesBL\n",
      "\n",
      "msExchExchangeServer Object Class: 1.2.840.113556.1.5.7000.62.50009\n",
      "  Short name: msExchExchangeServer\n",
      "  May contain attributes: serialNumber, versionNumber, serverRole, msExchMonitoringMonitoredServices, msExchTransportMaxReceiveProtocolLogDirectorySize, msExchTransportMaxSendProtocolLogAge, msExchTransportServerStatisticsDirectorySize, msExchSyncAccountsSuccessivePoisonItemsThreshold, msExchSyncAccountsPoisonItemThreshold, msExchContentAggregationRemoteConnectionTimeout, msExchUMMaximumASRSessionsAllowed, msExchCalendarRepairLogPath, msExchTransportMaxSendProtocolLogFileSize, msExchMalwareFilteringDeferWaitTime, msExchTransportExternalMaxDSNMessageAttachmentSize, msExchWorkloadManagementPolicyLink, msExchMigrationLogDirectorySizeQuotaLarge, msExchServerPublicKey, msExchSyncMailboxLogFilePath, msExchTransportFlags, msExchEdgeSyncLease, msExchUMTlsListeningPort, msExchSmtpMaxOutgoingConnections, msExchContentAggregationFlags, msExchTransportMaxPickupDirectoryMessagesPerMinute, msExchTransportRecipientStatisticsFileSize, msExchUMSiteRedirectTarget, msExchTransportRoutingLogPath, msExchClusterReplicationOrderedPrefixes, msExchHTTPProtocolLogFilePath, msExchInternetWebProxy, msExchTransportExternalDNSProtocolOption, msExchELCAuditLogPath, msExchFolderAffinityList, msExchServerAdminDelegationLink, msExchEdgeSyncStatus, msExchUMAvailableLanguages, msExchMailboxRelease, msExchSyncMailboxHealthLogDirectorySizeQuota, msExchTransportDelayNotificationTimeout, msExchHttpProtocolLogAgeQuotaInHours, msExchELCAuditLogFileSizeLimit, msExchServerEKPKPublicKey, msExchCustomerFeedbackEnabled, msExchUMGrammarGenerationSchedule, msExchSyncMailboxLogLoggingLevel, msExchSyncMailboxLogAgeQuotaInHours, msExchArchiveRelease, msExchSyncAccountsPoisonAccountThreshold, msExchInstallPath, msExchEdgeSyncAdamLdapPort, msExchSmtpExternalDNSServers, msExchMonitoringResources, msExchTransportMessageExpirationTimeout, msExchSyncMailboxLogDirectorySizeQuota, msExchTransportMaxMessageTrackingFileSize, msExchMalwareFilteringScanTimeout, msExchSyncMailboxHealthLogAgeQuotaInHours, msExchMonitoringQueuePollingFrequency, msExchMalwareFilteringDeferAttempts, msExchCalendarRepairIntervalStartWindow, msExchComponentStates, msExchCalendarRepairIntervalEndWindow, msExchTransportSecurityDescriptor, msExchServerEncryptedKPK, msExchInstalledComponents, msExchTransportReceiveProtocolLogPath, msExchUMEnabledFlags, msExchTransportMaxPickupDirectoryRecipients, msExchTransportMessageTrackingPath, msExchMessageTrackLogFilter, msExchTransportServerStatisticsFileSize, msExchTransportPickupDirectoryPath, msExchServerSite, msExchContentAggregationMaxAcceptedJobsPerProcessor, msExchUMServerDialPlanLink, msExchTransportInternalDNSProtocolOption, msExchTransportConnectivityLogFileSize, msExchTransportRecipientStatisticsPath, msExchServerInternalTLSCert, msExchTransportMaxConcurrentMailboxSubmissions, msExchTransportServerStatisticsPath, msExchCalendarRepairMaxThreads, msExchSyncHubHealthLogFilePath, msExchTransportMaxMessageTrackingLogAge, msExchMigrationLogDirectorySizeQuota, msExchUMStartupMode, msExchTransportMaxServerStatisticsLogAge, heuristics, msExchHomeRoutingGroupDNBL, msExchTransportMaxReceiveProtocolLogFileSize, msExchConfigurationXML, msExchTransportReplayDirectoryPath, msExchContentAggregationMaxDownloadItemsPerConnection, msExchMigrationLogExtensionData, msExchMonitoringPollingRate, msExchMonitoringNotificationRate, msExchTransportExternalIPAddress, msExchTransportMaxConnectivityLogAge, msExchSIPAccessService, msExchTransportRoutingLogMaxDirectorySize, msExchExchangeRPCServiceArrayBL, msExchContentAggregationMaxDownloadSizePerItem, msExchCurrentServerRoles, msExchTransportInternalPostmasterAddress, msExchMailboxManagerAdminMode, msExchELCAuditLogFileAgeLimit, msExchAutoDatabaseMountAfter, msExchTransportSubmissionServerOverrideList, msExchTransportConnectivityLogPath, msExchDataPath, msExchSyncHubHealthLogPerFileSizeQuota, msExchAssistantsMaintenanceSchedule, msExchTransportMaxPickupDirectoryMessageSize, msExchAutoDAGParamServerFlags, msExchTransportInternalDNSAdapterGuid, msExchUMMaximumTTSSessionsAllowed, msExchMalwareFilteringPrimaryUpdatePath, monitoredServices, msExchTransportInboundProtocolLoggingLevel, msExchSyncLogPerFileSizeQuota, msExchMalwareFilteringFlags, msExchTransportRoutingLogMaxAge, msExchTransportSendProtocolLogPath, msExchSmtpMaxOutgoingConnectionsPerDomain, msExchMailboxManagerActivationStyle, msExchSmtpReceiveMaxConnectionRatePerMinute, msExchTransportInternalDefaultLanguage, msExchSyncLogDirectorySizeQuota, msExchIRMLogMaxAge, msExchVPIMConvertInbound, msExchAssistantsThrottleWorkcycle, msExchTransportMaxMessageTrackingDirectorySize, msExchServerRole, msExchAddressListServiceBL, msExchContentAggregationMaxDispatchers, msExchSyncHubHealthLogAgeQuotaInHours, msExchContentAggregationMaxDownloadSizePerConnection, msExchMailboxManagerReportRecipient, msExchCIMDBExclusionList, msExchContentAggregationProxyServerURL, msExchTransportRootDropDirectoryPath, msExchMonitoringResponses, msExchMalwareFilteringUpdateTimeout, msExchHTTPProtocolLogLoggingLevel, msExchMigrationLogPerFileSizeQuota, msExchSyncMailboxHealthLogPerFileSizeQuota, msExchTransportTotalQueueMessageDehydrationThreshold, msExchTrkLogCleaningInterval, msExchTransportExternalPostmasterAddress, msExchUMRedirectTarget, msExchIRMLogPath, msExchMailTipsSettings, msExchUMIPGatewayServerBL, msExchMonitoringQueuePollingInterval, msExchContentAggregationMaxActiveJobsPerProcessor, msExchUMMaximumFaxCallsAllowed, msExchTransportPipelineTracingSenderAddress, msExchSmtpMaxMessagesPerConnection, msExchTransportMaxConcurrentMailboxDeliveries, msExchUMTcpListeningPort, msExchEncryptedTransportServiceKPK, msExchCalendarRepairLogFileAgeLimit, msExchProductID, msExchTransportTransientFailureRetryCount, msExchCalendarRepairLogFileSizeLimit, msExchTransportInternalMaxDSNMessageAttachmentSize, msExchMalwareFilteringUpdateFrequency, msExchSyncMailboxHealthLogFilePath, msExchHomeRoutingGroup, msExchIRMLogMaxDirectorySize, msExchPolicyList, msExchMigrationLogAgeQuotaInHours, msExchHTTPProtocolLogDirectorySizeQuota, msExchTransportInternalDSNReportingAuthority, msExchDataLossForAutoDatabaseMount, msExchSyncHubHealthLogDirectorySizeQuota, msExchMDBAvailabilityGroupLink, msExchResponsibleMTAServer, msExchIRMLogMaxFileSize, msExchMailboxManagerActivationSchedule, msExchTransportExternalDNSAdapterGuid, msExchContinuousReplicationMaxMemoryPerMDB, msExchUMForwardingAddressTemplate, msExchEdgeSyncAdamSSLPort, msExchUMCertificateThumbprint, msExchMigrationLogLoggingLevel, msExchTransportExternalDSNReportingAuthority, msExchServerRedundantMachines, msExchSyncLogAgeQuotaInHours, msExchTransportMaxRecipientStatisticsLogAge, msExchActivationConfig, msExchTransportMaxReceiveProtocolLogAge, msExchForeignForestServerAdminUSGSid, msExchMigrationLogLogFilePath, msExchClusterStorageType, msExchComputerLink, msExchSyncMailboxLogPerFileSizeQuota, msExchMonitoringMode, msExchUMServerStatus, msExchTransportMaxPickupDirectoryHeaderSize, msExchMalwareFilteringSecondaryUpdatePath, msExchUMLoadBalancerFQDN, msExchMinAdminVersion, msExchTransportOutboundProtocolLoggingLevel, msExchTransportPipelineTracingPath, msExchSyncLogFilePath, msExchTransportExternalDefaultLanguage, msExchPolicyOptionList, msExchTransportMaxSendProtocolLogDirectorySize, msExchMaxActiveMailboxDatabases, msExchHTTPProtocolLogPerFileSizeQuota, messageTrackingEnabled, msExchTransportPoisonMessageThreshold, msExchMailboxRoleFlags, msExchCalendarRepairFlags, msExchTransportOutboundConnectionFailureRetryInterval, msExchSyncLogLoggingLevel, msExchELCAuditLogDirectorySizeLimit, msExchELCSchedule, msExchUMMaximumCallsAllowed, msExchFolderAffinityCustom, msExchTransportConnectivityLogDirectorySize, msExchServerFaultZone, msExchContentAggregationMaxNumberOfAttempts, msExchVPIMConvertOutbound, msExchPhoneticSupport, msExchTransportInternalDNSServers, msExchTransportMaxQueueIdleTime, msExchHostServerBL, msExchTransportRecipientStatisticsDirectorySize, msExchTransportTransientFailureRetryInterval, msExchTransportPerQueueMessageDehydrationThreshold, msExchTransportMessageRetryInterval, msExchDeltaSyncClientCertificateThumbprint, msExchMonitoringDiskSpace, msExchLocales, msExchEdgeSyncCredential\n",
      "\n",
      "msExchMRSRequest Object Class: 1.2.840.113556.1.5.7000.62.50153\n",
      "  Short name: msExchMRSRequest\n",
      "  May contain attributes: displayName, msExchMailboxMoveFlags, msExchMailboxMoveStorageMDBLinkSL, msExchMailboxMoveStatus, msExchMRSRequestType, msExchMailboxMoveSourceMDBLinkSL, msExchMailboxMoveFilePath, msExchMailboxMoveTargetMDBLink, msExchMailboxMoveSourceMDBLink, msExchMailboxMoveRemoteHostName, msExchMailboxMoveBatchName, msExchMailboxMoveSourceUserLink, msExchMailboxMoveStorageMDBLink, msExchMailboxMoveTargetMDBLinkSL, msExchMailboxMoveRequestGuid, msExchPublicFolderEntryId, msExchMailboxMoveTargetUserLink\n",
      "\n",
      "msExchOWAMailboxPolicy Object Class: 1.2.840.113556.1.5.7000.62.50116\n",
      "  Short name: msExchOWAMailboxPolicy\n",
      "  May contain attributes: msExchOWABlockedFileTypes, msExchOWAForceSaveFileTypes, msExchOWADefaultTheme, msExchOWAAllowedMimeTypes, msExchOWAIMProviderType, msExchOWALogonAndErrorLanguage, msExchOWATranscodingMimeTypes, msExchOWATranscodingFileTypes, msExchOWADefaultClientLanguage, msExchOWAFileAccessControlOnPublicComputers, msExchOWASetPhotoURL, msExchConfigurationXML, msExchOWAActionForUnknownFileAndMIMETypes, msExchOWAUseISO885915, msExchOWAAllowedFileTypes, msExchOWAOutboundCharset, msExchOWATranscodingFlags, msExchMailboxFolderSet2, msExchOWAFileAccessControlOnPrivateComputers, msExchOWAUseGB18030, msExchOWABlockedMIMETypes, msExchPhoneticSupport, msExchOWAForceSaveMIMETypes, msExchMailboxFolderSet\n",
      "\n",
      "mailRecipient Object Class: 1.2.840.113556.1.3.46\n",
      "  Short name: mailRecipient\n",
      "  Must contain attributes: cn\n",
      "  May contain attributes: telephoneNumber, userCertificate, info, department, company, garbageCollPeriod, msExchAssistantName, msExchLabeledURI, versionNumber, showInAddressBook, userCert, assistant, legacyExchangeDN, msDS-PhoneticDisplayName, msDS-HABSeniorityIndex, msDS-GeoCoordinatesAltitude, msDS-GeoCoordinatesLatitude, msDS-GeoCoordinatesLongitude, userSMIMECertificate, textEncodedORAddress, mail, secretary, labeledURI, msExchRemoteRecipientType, msExchSharingPolicyLink, msExchOWAPolicy, msExchPreviousAccountSid, msExchUGEventSubscriptionLink, msExchMailboxMoveFlags, publicDelegates, authOrigBL, msExchEdgeSyncRetryCount, msExchMailboxMoveTargetArchiveMDBLinkSL, autoReplyMessage, msExchEwsWellKnownApplicationPolicies, msExchRetentionComment, delivContLength, msExchWhenMailboxCreated, importedFrom, msExchMailboxRelease, delivExtContTypes, msExchSenderHintTranslations, dLMemRejectPerms, submissionContLength, msExchParentPlanLink, msExchArchiveRelease, msExchRecipientTypeDetails, msExchUserAccountControl, msExchMailboxAuditLastDelegateAccess, altRecipient, msExchCalendarRepairDisabled, msExchMailboxMoveStatus, dLMemRejectPermsBL, msExchAuxMailboxParentObjectIdLink, msExchMailboxMoveSourceArchiveMDBLink, msExchUsageLocation, targetAddress, msExchExpansionServerName, language, msExchMailboxMoveSourceMDBLinkSL, msExchMessageHygieneSCLQuarantineThreshold, msExchBypassModerationLink, msExchUserHoldPolicies, dLMemSubmitPermsBL, msExchWhenSoftDeletedTime, msExchProxyCustomProxy, msExchSharingPartnerIdentities, msExchResourceDisplay, msExchAuditAdmin, pOPCharacterSet, deliveryMechanism, formData, msExchModeratedObjectsBL, msExchMailboxMoveTargetMDBLink, msExchDirsyncID, msExchProvisioningFlags, dLMemSubmitPerms, msExchDirsyncSourceObjectClass, altRecipientBL, msExchPartnerGroupID, msExchForeignGroupSID, msExchConfigurationXML, msExchAggregationSubscriptionCredential, msExchMailboxMoveSourceMDBLink, msExchMailboxMoveTargetArchiveMDBLink, protocolSettings, msExchSignupAddresses, msExchRBACPolicyLink, msExchSafeRecipientsHash, msExchSyncAccountsPolicyDN, dLMemDefault, authOrig, msExchFBURL, msExchUMDtmfMap, msExchLicenseToken, msExchGroupExternalMemberCount, mAPIRecipient, msExchPoliciesIncluded, msExchObjectID, replicationSensitivity, msExchPublicFolderMailbox, msExchRMSComputerAccountsLink, msExchTransportRecipientSettingsFlags, msExchModeratedByLink, msExchRoleGroupType, languageCode, msExchMasterAccountSid, msExchUMSpokenName, msExchSupervisionDLLink, msExchUMCallingLineIDs, msExchBypassAudit, msExchThrottlingPolicyDN, msExchMessageHygieneFlags, msExchMailboxPlanType, msExchMailboxMoveRemoteHostName, msExchMailboxAuditEnable, deliverAndRedirect, expirationTime, msExchMailboxMoveBatchName, msExchMailboxAuditLastAdminAccess, msExchSharingAnonymousIdentities, msExchLitigationHoldOwner, msExchMailboxMoveSourceArchiveMDBLinkSL, msExchArbitrationMailbox, msExchAuditOwner, msExchMailboxSecurityDescriptor, msExchHABShowInDepartments, msDS-ExternalDirectoryObjectId, extensionData, msExchCustomProxyAddresses, msExchSendAsAddresses, msExchUMRecipientDialPlanLink, msExchLocalizationFlags, internetEncoding, mailNickname, securityProtocol, msExchRecipientSoftDeletedStatus, msExchCoManagedObjectsBL, msExchMailboxMoveTargetMDBLinkSL, msExchAuthPolicyLink, msExchRetentionURL, msExchHomeMTASL, msExchWindowsLiveID, msExchPublicFolderSmtpAddress, msExchPoliciesExcluded, msExchModerationFlags, forwardingAddress, msExchOrganizationUpgradeRequest, msExchStsRefreshTokensValidFrom, msExchImmutableSid, msExchSupervisionOneOffLink, msExchResourceMetaData, msExchCapabilityIdentifiers, msExchOrganizationUpgradeStatus, homeMTA, msExchGroupSecurityFlags, msExchMailboxFolderSet2, msExchCalculatedTargetAddress, msExchInterruptUserOnAuditFailure, msExchUMListInDirectorySearch, msExchAuditDelegate, msExchLitigationHoldDate, msExchIntendedMailboxPlanLink, publicDelegatesBL, msExchResourceCapacity, msExchPolicyEnabled, msExchUCVoiceMailSettings, msExchMessageHygieneSCLRejectThreshold, msExchPolicyOptionList, dnQualifier, msExchSafeSendersHash, msExchGroupMemberCount, msExchBypassModerationFromDLMembersLink, msExchBypassModerationFromDLMembersBL, msExchEwsEnabled, folderPathname, msExchExternalSyncState, msExchRecipientDisplayType, msExchEwsExceptions, msExchAddressBookFlags, enabledProtocols, msExchAuditDelegateAdmin, msExchImmutableId, msExchGenericForwardingAddress, msExchRequireAuthToSendTo, msExchMailboxAuditLogAgeLimit, pOPContentFormat, msExchResourceSearchProperties, unauthOrig, msExchShadowWhenSoftDeletedTime, unauthOrigBL, msExchRecipLimit, msExchSupervisionUserLink, msExchBypassModerationBL, msExchUMAddresses, msExchEwsApplicationAccessPolicy, msExchPreviousRecipientTypeDetails, msExchBlockedSendersHash, msExchMessageHygieneSCLJunkThreshold, msExchEnableModeration, msExchTextMessagingState, msExchMultiMailboxDatabasesLink, msExchMailboxAuditLastExternalAccess, msExchAdministrativeUnitLink, msExchUGMemberLink, msExchMailboxFolderSet, msExchMessageHygieneSCLDeleteThreshold\n",
      "\n",
      "msExchMessageDeliveryConfig Object Class: 1.2.840.113556.1.5.7000.62.50028\n",
      "  Short name: msExchMessageDeliveryConfig\n",
      "  May contain attributes: delivContLength, submissionContLength, msExchTurfListAction, msExchLocalDomains, msExchAdminMailbox, msExchMinAdminVersion, msExchRecipLimit\n",
      "\n",
      "msExchOrganizationUpgradePolicy Object Class: 1.2.840.113556.1.5.7000.62.50166\n",
      "  Short name: msExchOrganizationUpgradePolicy\n",
      "  May contain attributes: msExchOrganizationUpgradePolicyTargetVersion, msExchOrganizationUpgradePolicyStatus, msExchOrganizationUpgradePolicyMaxMailboxes, msExchOrganizationUpgradePolicySourceVersion, msExchOrganizationUpgradePolicyBL, msExchOrganizationUpgradePolicyDate, msExchOrganizationUpgradePolicyEnabled, msExchOrganizationUpgradePolicyPriority\n",
      "\n",
      "msExchUMDialPlan Object Class: 1.2.840.113556.1.5.7000.62.50052\n",
      "  Short name: msExchUMDialPlan\n",
      "  Must contain attributes: msExchUMNumberingPlanDigits\n",
      "  May contain attributes: msExchUMAudioCodec, msExchUMDialByNameSecondary, msExchUMCallSomeoneScope, msExchUMSpeechGrammarFilterList, msExchUMFaxEnabled, msExchUMDisambiguationField, msExchUMDialPlanDialedNumbers, msExchUMAvailableLanguages, msExchUMInputRetries, msExchUMAvailableTTSLanguages, msExchUMSendVoiceMessageScope, msExchUMNDRReqEnabled, msExchUMInCountryNumberFormat, msExchUMCallingLineIDFormats, msExchUMDialPlanVoipSecurity, msExchUMRecipientDialPlanBL, msExchAllowHeuristicADCallingLineIdResolution, msExchUMDialPlanSubscriberType, msExchUMExtensionLengthNumbersAllowed, msExchUMAllowedInCountryGroups, msExchUMWelcomeGreetingEnabled, msExchPollInterval, msExchUMDialByNamePrimary, msExchUMAvailableInCountryGroups, msExchUMVoiceMailOriginator, msExchUMWelcomeGreetingFile, msExchUMAllowedInternationalGroups, msExchUMOperatorExtension, msExchUMDialPlanDefaultAutoAttendantLink, msExchUMMaxRecordingDuration, msExchUMServerDialPlanBL, msExchUMInternationalNumberFormat, msExchUMDefaultTTSLanguage, msExchUMDialPlanTimezone, msExchUMInternationalAccessCode, msExchUMASREnabled, msExchPromptPublishingPoint, msExchUMSendVoiceMessageEnabled, msExchUMRecordingIdleTimeout, msExchUMNationalNumberPrefix, msExchUMMailboxPolicyDialPlanBL, msExchUMDefaultOutboundCallingLineID, msExchUMEquivalenceDialPlan, msExchUMMaxCallDuration, msExchUMOverrideExtension, msExchUMEquivalentDialPlanPhoneContexts, msExchUMCountryCode, msExchUMAutoAttendantDialPlanBL, msExchUMTrunkAccessCode, msExchUMQueryBaseDN, msExchUMDialPlanFlags, msExchUMCallFailuresToDisconnect, msExchUMDialPlanSubscribersAllowed, msExchUMResetPasswordValue, msExchUMDialPlanFlags2, msExchUMDialPlanURIType, msExchUMInfoAnnouncementFile, msExchUMVoiceMailPilotNumbers, msExchUMCallSomeoneEnabled, msExchUMGlobalCallRoutingScheme, msExchUMInputTimeout, msExchUMHuntGroupDialPlanBL, msExchUMAvailableInternationalGroups, msExchUMDefaultLanguage, msExchUMDialPlanPromptChangeKey, msExchUMInfoAnnouncementStatus, msExchUMPhoneContext, msExchUMIPGatewayDialPlanBL, msExchUMLogonFailuresBeforeDisconnect, msExchUMAudioCodec2\n",
      "\n",
      "msExchActiveSyncDeviceAutoblockThreshold Object Class: 1.2.840.113556.1.5.7000.62.50161\n",
      "  Short name: msExchActiveSyncDeviceAutoblockThreshold\n",
      "  May contain attributes: msExchActiveSyncDeviceAutoBlockDuration, msExchActiveSyncDeviceAutoblockThresholdIncidenceLimit, msExchActiveSyncDeviceAutoblockThresholdType, msExchActiveSyncDeviceAutoblockThresholdIncidenceDuration, msExchMobileOTANotificationMailInsert2\n",
      "\n",
      "organizationalPerson Object Class: 2.5.6.7\n",
      "  Short name: organizationalPerson\n",
      "  May contain attributes: c, l, st, street, o, ou, title, postalAddress, postalCode, postOfficeBox, physicalDeliveryOfficeName, telexNumber, teletexTerminalIdentifier, facsimileTelephoneNumber, x121Address, internationalISDNNumber, registeredAddress, destinationIndicator, preferredDeliveryMethod, givenName, initials, generationQualifier, houseIdentifier, otherTelephone, otherPager, co, department, company, streetAddress, otherHomePhone, msExchHouseIdentifier, employeeNumber, employeeType, personalTitle, homePostalAddress, countryCode, employeeID, comment, division, otherFacsimileTelephoneNumber, otherMobile, primaryTelexNumber, primaryInternationalISDNNumber, mhsORAddress, otherMailbox, assistant, ipPhone, otherIpPhone, msDS-AllowedToDelegateTo, msDS-PhoneticFirstName, msDS-PhoneticLastName, msDS-PhoneticDepartment, msDS-PhoneticCompanyName, msDS-PhoneticDisplayName, msDS-HABSeniorityIndex, msDS-AllowedToActOnBehalfOfOtherIdentity, mail, manager, homePhone, mobile, pager, middleName, thumbnailPhoto, thumbnailLogo, businessRoles, personalPager, telephoneAssistant, msExchUserCulture\n",
      "  OidInfo: ('2.5.6.7', 'OBJECT_CLASS', 'organizationalPerson', 'RFC4519')\n",
      "\n",
      "msExchOWAVirtualDirectory Object Class: 1.2.840.113556.1.5.7000.62.50087\n",
      "  Short name: msExchOWAVirtualDirectory\n",
      "  May contain attributes: msExchOWAMaxTranscodableDocSize, msExchOWABlockedFileTypes, msExchOWAForceSaveFileTypes, msExchOWADefaultTheme, msExchOWAClientAuthCleanupLevel, msExchOWARemoteDocumentsBlockedServers, msExchOWARedirectToOptimalOWAServer, msExchOWAAllowedMimeTypes, msExchOWAIMProviderType, msExchLegacyRedirectType, msExchOWALogonAndErrorLanguage, msExchOWATranscodingMimeTypes, msExchOWARemoteDocumentsAllowedServers, msExchOWALogonFormat, msExchOWATranscodingFileTypes, msExchOWADefaultClientLanguage, msExchOWAFileAccessControlOnPublicComputers, msExchOWASetPhotoURL, msExchConfigurationXML, msExchOWAActionForUnknownFileAndMIMETypes, msExchOWAGzipLevel, msExchOWAUseISO885915, msExchOWARemoteDocumentsActionForUnknownServers, msExchOWAIMCertificateThumbprint, msExchOWAFilterWebBeacons, msExchOWAAllowedFileTypes, msExchOWAVersion, msExch2003Url, msExchMetabasePath, msExchOWARemoteDocumentsInternalDomainSuffixList, msExchOWAExchwebProxyDestination, msExchOWAUserContextTimeout, msExchOWAFailbackURL, msExchOWANotificationInterval, msExchOWAOutboundCharset, msExchOWATranscodingFlags, msExchMailboxFolderSet2, msExchOWAVirtualDirectoryType, msExchOWAFileAccessControlOnPrivateComputers, folderPathname, msExchOWAUseGB18030, msExchOWABlockedMIMETypes, msExchOWAForceSaveMIMETypes, msExchOWAIMServerName, msExchMailboxFolderSet\n",
      "\n",
      "msExchMessageHygieneContentFilterConfig Object Class: 1.2.840.113556.1.5.7000.62.50074\n",
      "  Short name: msExchMessageHygieneContentFilterConfig\n",
      "  May contain attributes: msExchMessageHygieneRejectionMessage, msExchMessageHygieneQuarantineMailbox, msExchMessageHygieneBypassedRecipient, msExchMessageHygieneCustomWeightEntry, msExchMessageHygieneSCLQuarantineThreshold, msExchMessageHygieneBypassedSenders, msExchMessageHygieneBypassedSenderDomains, msExchMessageHygieneContentFilterLocation, msExchMessageHygieneSCLRejectThreshold, msExchMessageHygieneSCLDeleteThreshold\n",
      "\n",
      "msExchMailboxManagerPolicy Object Class: 1.2.840.113556.1.5.7000.62.50033\n",
      "  Short name: msExchMailboxManagerPolicy\n",
      "  May contain attributes: msExchMailboxManagerSizeLimit, msExchMailboxManagerUserMessageHeader, msExchMailboxManagerKeepMessageClasses, msExchMailboxManagerMode, msExchMailboxManagerFolderSettings, msExchMailboxManagerUserMessageFooter, msExchMailboxManagerUserMessageBody, msExchMailboxManagerSizeLimitEnabled, msExchMailboxManagerAgeLimit, msExchMailboxManagerCustomMessage, msExchMailboxManagerSendUserNotificationMail\n",
      "\n",
      "msExchMailStorage Object Class: 1.2.840.113556.1.5.7000.62.5\n",
      "  Short name: msExchMailStorage\n",
      "  May contain attributes: garbageCollPeriod, msExchArchiveQuota, msExchUMAudioCodec, msExchMailboxMoveFlags, msExchMobileMailboxPolicyLink, msExchMailboxUrl, msExchMailboxRelease, msExchArchiveRelease, msExchMaxBlockedSenders, msExchMailboxMoveStatus, deletedItemFlags, msExchPreviousArchiveDatabase, msExchUMServerWritableFlags, mDBOverQuotaLimit, msExchPreviousHomeMDB, msExchUMEnabledFlags, msExchExternalOOFOptions, msExchDataEncryptionPolicyLink, msExchDumpsterWarningQuota, msExchPreviousArchiveDatabaseSL, msExchELCMailboxFlags, msExchMailboxMoveTargetMDBLink, msExchPreviousMailboxGuid, msExchConfigurationXML, msExchHomeMDBSL, msExchMDBRulesQuota, msExchArchiveName, msExchPreviousHomeMDBSL, msExchArchiveWarnQuota, msExchTeamMailboxOwners, msExchDelegateListLink, msExchUMPinChecksum, msExchDisabledArchiveDatabaseLink, msExchAddressBookPolicyLink, msExchUMOperatorNumber, msExchUMFaxId, msExchMailboxMoveRemoteHostName, msExchMobileDebugLogging, mDBStorageQuota, msExchMailboxOABVirtualDirectoriesLink, msExchMobileAllowedDeviceIDs, msExchMailboxContainerGuid, msExchArchiveStatus, msExchUnifiedMailbox, msExchTeamMailboxSharePointUrl, msExchMailboxMoveTargetMDBLinkSL, msExchUMPhoneProvider, msExchTeamMailboxShowInClientList, msExchTeamMailboxSharePointLinkedBy, mDBOverHardQuotaLimit, msExchUMEnabledFlags2, homeMDB, msExchOrganizationUpgradeRequest, msExchELCExpirySuspensionStart, mDBUseDefaults, msExchELCExpirySuspensionEnd, msExchOrganizationUpgradeStatus, msExchCalendarLoggingQuota, msExchHomeServerName, msExchApprovalApplicationLink, msExchMobileBlockedDeviceIDs, msExchArchiveGUID, msExchUMMaxGreetingDuration, msExchUMMailboxOVALanguage, msExchAlternateMailboxes, msExchMailboxTemplateLink, msExchMailboxGuid, autoReply, msExchUserCulture, msExchPfRootUrl, msExchDumpsterQuota, msExchTeamMailboxExpiration, msExchMaxSafeSenders, msExchDisabledArchiveDatabaseLinkSL, msExchUseOAB, msExchUMAddresses, msExchMobileMailboxFlags, msExchDisabledArchiveGUID, msExchArchiveDatabaseLinkSL, msExchUMTemplateLink, msExchArchiveDatabaseLink, msExchUMAudioCodec2, msExchArchiveAddress\n",
      "\n",
      "msExchLoadBalancingSettings Object Class: 1.2.840.113556.1.5.7000.62.50121\n",
      "  Short name: msExchLoadBalancingSettings\n",
      "  May contain attributes: msExchExcludedMailboxDatabases, msExchUseExcludedMailboxDatabases, msExchIncludedMailboxDatabases, msExchUseIncludedMailboxDatabases\n",
      "\n",
      "msExchMultiMediaUser Object Class: 1.2.840.113556.1.5.7000.62.17002\n",
      "  Short name: msExchMultiMediaUser\n",
      "  May contain attributes: msExchVoiceMailboxID, msExchTUISpeed, msExchTUIVolume, msExchTUIPassword\n",
      "\n",
      "msExchTeamMailboxProvisioningPolicy Object Class: 1.2.840.113556.1.5.7000.62.50170\n",
      "  Short name: msExchTeamMailboxProvisioningPolicy\n",
      "  May contain attributes: delivContLength, msExchTeamMailboxExpiryDays, msExchConfigurationXML, mDBStorageQuota, mDBOverHardQuotaLimit\n",
      "\n",
      "msExchKeyManagementServer Object Class: 1.2.840.113556.1.5.7000.62.13002\n",
      "  Short name: msExchKeyManagementServer\n",
      "  May contain attributes: dXAAdminForward, kMServer, certificateRevocationListV1, enableCompatibility, sendEMailMessage, certificateRevocationListV3, domainDefAltRecip, expirationTime, kCCStatus, certificateChainV3, dXAPrevTypes, crossCertificateCRL, securityPolicy, compromisedKeyList\n",
      "\n",
      "msExchConnector Object Class: 1.2.840.113556.1.5.7000.62.12004\n",
      "  Short name: msExchConnector\n",
      "  May contain attributes: versionNumber, msExchRoutingOversizedSchedule, msExchDestinationRGDN, msExchRoutingOversizedStyle, msExchConnectorType, delivContLength, dLMemRejectPerms, msExchInconsistentState, msExchSmtpTLSCertificate, msExchRoutingTriggeredStyle, msExchSourceBridgeheadServersDN, dLMemSubmitPerms, dLMemDefault, authOrig, activationStyle, msExchRoutingTriggeredSchedule, msExchMasterAccountSid, messageSizeLimit, msExchMailboxSecurityDescriptor, routingList, connectedDomains, msExchNoPFConnection, msExchRoutingDisallowPriority, msExchMinAdminVersion, msExchMailboxGuid, msExchTargetBridgeheadServersDN, unauthOrig, activationSchedule\n",
      "\n",
      "msExchccMailConnector Object Class: 1.2.840.113556.1.5.7000.62.1001\n",
      "  Short name: msExchccMailConnector\n",
      "  May contain attributes: msExchccMailPOName, msExchccMailPOPath, msExchccMailADEProp, msExchccMailConnectAsPassword, msExchccMailImportExportVersion, objViewContainers, msExchccMailConnectAsUserid, msExchccMailPassword, msExchccMailFilterType, msExchccMailKeepForwardHistory\n",
      "\n",
      "msExchJournalingReconciliationRemoteAccount Object Class: 1.2.840.113556.1.5.7000.62.50137\n",
      "  Short name: msExchJournalingReconciliationRemoteAccount\n",
      "  May contain attributes: msExchJournalingReconciliationUsername, msExchJournalingReconciliationMailboxes, msExchJournalingReconciliationUrl, msExchJournalingReconciliationPassword\n",
      "\n",
      "msExchApprovalApplicationContainer Object Class: 1.2.840.113556.1.5.7000.62.50113\n",
      "  Short name: msExchApprovalApplicationContainer\n",
      "  May contain attributes: msExchMailboxTemplateLink\n",
      "\n",
      "mailGateway Object Class: 1.2.840.113556.1.3.51\n",
      "  Short name: mailGateway\n",
      "  Must contain attributes: cn, deliveryMechanism, homeMTA\n",
      "  May contain attributes: c, supportedApplicationContext, msExchEncryptedPassword2, msExchDestinationRGDN, msExchConnectorType, mDBMsgTimeOutPeriod, msExchTransportDropDirectoryQuota, delivContLength, msExchPartnerLanguage, delivExtContTypes, exportCustomRecipients, diagnosticRegKey, pRMD, transferRetryInterval, msExchBarMessageClass, importContainer, computerName, msExchEncryptedPassword, transferTimeoutNonUrgent, msExchTransportDropDirectoryName, transferTimeoutUrgent, msExchHomeMDBSL, mDBUnreadLimit, msExchServer1AlwaysCreateAs, replicationSensitivity, msExchDirsyncSchedule, msExchMaintenanceSchedule, msExchExportContainersLinked, mDBStorageQuota, canPreserveDNs, delivEITs, msExchPartnerCP, exportContainers, msExchDestBHAddress, msExchDirsyncStyle, lineWrap, msExchHomeMTASL, msExchMaintenanceStyle, msExchImportContainerLinked, translationTableUsed, mDBBackoffInterval, homeMDB, msExchAdminMailbox, msExchDirsyncFilters, msExchExportDLs, transferTimeoutNormal, msExchDeliveryOrder, encapsulationMethod, aDMD, msExchServer1NetworkAddress, msExchMailGatewayFlags, msExchSourceBHAddress\n",
      "\n",
      "msExchReplicationConnector Object Class: 1.2.840.113556.1.5.7000.62.11\n",
      "  Short name: msExchReplicationConnector\n",
      "  May contain attributes: addressType, localBridgeHeadAddress, remoteBridgeHeadAddress, activationStyle, trustLevel, kCCStatus, outboundSites, remoteBridgeHead, replicationStagger, inboundSites, localBridgeHead, replicationMailMsgSize, activationSchedule, remoteSite\n",
      "\n",
      "msExchDynamicDistributionList Object Class: 1.2.840.113556.1.5.7000.62.12006\n",
      "  Short name: msExchDynamicDistributionList\n",
      "  May contain attributes: managedBy, mail, msExchMemberBaseDN, msExchQueryFilter, oOFReplyToOriginator, msExchDynamicDLFilter, reportToOriginator, reportToOwner, msExchDynamicDLBaseDN, msExchPurportedSearchUI, hideDLMembership, msExchMemberFilter, msExchQueryFilterMetadata\n",
      "\n",
      "msExchSchedulePlusConnector Object Class: 1.2.840.113556.1.5.7000.62.1008\n",
      "  Short name: msExchSchedulePlusConnector\n",
      "  May contain attributes: transferRetryInterval, computerName, msExchSchedPlusFullUpdate, msExchSchedPlusSchedist, msExchSchedPlusAGOnly, msExchAdminMailbox\n",
      "\n",
      "msExchTransportResellerSettings Object Class: 1.2.840.113556.1.5.7000.62.50154\n",
      "  Short name: msExchTransportResellerSettings\n",
      "  May contain attributes: msExchTransportResellerIntraTenantMailContentType, msExchTransportResellerSettingsInboundGatewayID, msExchTransportResellerSettingsOutboundGatewayID\n",
      "\n",
      "msExchMailboxRecipientTemplate Object Class: 1.2.840.113556.1.2.50049\n",
      "  Short name: msExchMailboxRecipientTemplate\n",
      "  May contain attributes: msExchMailboxTemplateBL, msExchELCFolderLink\n",
      "\n",
      "msExchOABVirtualDirectory Object Class: 1.2.840.113556.1.5.7000.62.50067\n",
      "  Short name: msExchOABVirtualDirectory\n",
      "  May contain attributes: msExchOABVirtualDirectoriesBL, msExchPollInterval, msExchMailboxOABVirtualDirectoriesBL\n",
      "\n",
      "msExchOAB Object Class: 1.2.840.113556.1.5.7000.62.9\n",
      "  Short name: msExchOAB\n",
      "  Must contain attributes: offLineABStyle, doOABVersion, msExchOABFolder, offLineABContainers, offLineABSchedule, offLineABServer\n",
      "  May contain attributes: msExchOABMaxMVBinarySize, msExchOABGeneratingMailboxLink, msExchOABTruncatedProperties, siteFolderServer, msExchLastUpdateTime, siteFolderGUID, msExchOABDefault, msExchOfflineAddressBookBL, msExchOABMaxStringSize, msExchUseOABBL, msExchOABFlags, msExchOABTTL, msExchOABDetailsProperties, msExchOABLastNumberOfRecords, msExchOABVirtualDirectoriesLink, msExchOABLastTouchedTime, msExchOABMaxMVStringSize, msExchOABMaxBinarySize, msExchOABPreferredSite, msExchMinAdminVersion, msExchOffLineABServerSL, msExchOABANRProperties\n",
      "\n",
      "user Object Class: 1.2.840.113556.1.5.9\n",
      "  Short name: user\n",
      "  May contain attributes: o, businessCategory, userCertificate, givenName, initials, x500uniqueIdentifier, displayName, networkAddress, employeeNumber, employeeType, homePostalAddress, userAccountControl, badPwdCount, codePage, homeDirectory, homeDrive, badPasswordTime, lastLogoff, lastLogon, dBCSPwd, localeID, scriptPath, logonHours, logonWorkstation, maxStorage, userWorkstations, unicodePwd, otherLoginWorkstations, ntPwdHistory, pwdLastSet, preferredOU, primaryGroupID, userParameters, profilePath, operatorCount, adminCount, accountExpires, lmPwdHistory, groupMembershipSAM, logonCount, controlAccessRights, defaultClassStore, groupsToIgnore, groupPriority, desktopProfile, dynamicLDAPServer, userPrincipalName, lockoutTime, userSharedFolder, userSharedFolderOther, servicePrincipalName, aCSPolicyName, terminalServer, mSMQSignCertificates, mSMQDigests, mSMQDigestsMig, mSMQSignCertificatesMig, msNPAllowDialin, msNPCallingStationID, msNPSavedCallingStationID, msRADIUSCallbackNumber, msRADIUSFramedIPAddress, msRADIUSFramedRoute, msRADIUSServiceType, msRASSavedCallbackNumber, msRASSavedFramedIPAddress, msRASSavedFramedRoute, mS-DS-CreatorSID, msCOM-UserPartitionSetLink, msDS-Cached-Membership, msDS-Cached-Membership-Time-Stamp, msDS-Site-Affinity, msDS-User-Account-Control-Computed, lastLogonTimestamp, msIIS-FTPRoot, msIIS-FTPDir, msDRM-IdentityCertificate, msPKIRoamingTimeStamp, msPKIDPAPIMasterKeys, msPKIAccountCredentials, msRADIUS-FramedInterfaceId, msRADIUS-SavedFramedInterfaceId, msRADIUS-FramedIpv6Prefix, msRADIUS-SavedFramedIpv6Prefix, msDS-SecondaryKrbTgtNumber, msDS-AuthenticatedAtDC, msDS-SupportedEncryptionTypes, msDS-LastSuccessfulInteractiveLogonTime, msDS-LastFailedInteractiveLogonTime, msDS-FailedInteractiveLogonCount, msDS-FailedInteractiveLogonCountAtLastSuccessfulLogon, msTSProfilePath, msTSHomeDirectory, msTSHomeDrive, msTSAllowLogon, msTSRemoteControl, msTSMaxDisconnectionTime, msTSMaxConnectionTime, msTSMaxIdleTime, msTSReconnectionAction, msTSBrokenConnectionAction, msTSConnectClientDrives, msTSConnectPrinterDrives, msTSDefaultToMainPrinter, msTSWorkDirectory, msTSInitialProgram, msTSProperty01, msTSProperty02, msTSExpireDate, msTSLicenseVersion, msTSManagingLS, msDS-UserPasswordExpiryTimeComputed, msTSExpireDate2, msTSLicenseVersion2, msTSManagingLS2, msTSExpireDate3, msTSLicenseVersion3, msTSManagingLS3, msTSExpireDate4, msTSLicenseVersion4, msTSManagingLS4, msTSLSProperty01, msTSLSProperty02, msDS-ResultantPSO, msPKI-CredentialRoamingTokens, msTSPrimaryDesktop, msTSSecondaryDesktops, msDS-PrimaryComputer, msDS-SyncServerUrl, msDS-AssignedAuthNPolicySilo, msDS-AuthNPolicySiloMembersBL, msDS-AssignedAuthNPolicy, userSMIMECertificate, uid, mail, roomNumber, photo, manager, homePhone, secretary, mobile, pager, audio, jpegPhoto, carLicense, departmentNumber, preferredLanguage, userPKCS12, labeledURI, kMServer, msRADIUS-FramedIpv6Route, msDS-SourceObjectDN, bit4idMifareSerialNumber, msSFU30NisDomain, bit4idCertSerialNumber, msExchControllingZone, bit4idCardSerialNumber, msExchConferenceMailboxBL, msSFU30Name, msExchResourceProperties, bit4id4PWDUserProfile, msExchOriginatingForest, msRADIUS-SavedFramedIpv6Route, msExchQueryBaseDN, msExchResourceGUID, msExchIMAPOWAURLPrefixOverride, bit4idCaData\n",
      "\n",
      "msExchPrivateMDB Object Class: 1.2.840.113556.1.5.7000.62.11004\n",
      "  Short name: msExchPrivateMDB\n",
      "  May contain attributes: msExchMaximumRecurringInstances, msExchMailboxDatabaseTransportFlags, msExchRestore, msExchRecoveryPointObjectiveInterADSite, msExchOrigMDB, msExchMailboxRetentionPeriod, msExchRecoveryPointObjectiveIntraADSite, msExchHomePublicMDB, msExchMessageJournalRecipient, msExchMaximumRecurringInstancesMonths, msExchUseOAB\n",
      "\n",
      "msExchMailflowPolicy Object Class: 1.2.840.113556.1.5.7000.62.50192\n",
      "  Short name: msExchMailflowPolicy\n",
      "  May contain attributes: msExchMailflowPolicyPublisherName, msExchMailflowPolicyTransportRulesTemplateXml, msExchTransportRuleState, msExchTransportRuleImmutableId, msExchMailflowPolicyCountries, msExchMailflowPolicyKeywords, msExchMailflowPolicyVersion, msExchImmutableId\n",
      "\n",
      "msExchNotesConnector Object Class: 1.2.840.113556.1.5.7000.62.1002\n",
      "  Short name: msExchNotesConnector\n",
      "  May contain attributes: msExchNotesSourceBooks, msExchNotesRtrMailbox, msExchNotesNotesServer, msExchNotesConnectorMailbox, msExchNotesExportGroups, msExchNotesPassword, msExchNotesNotesLinks, msExchNotesRoutableDomains, msExchNotesTargetBooks, msExchNotesTargetBook, msExchNotesLetterhead, msExchNotesForeignDomain, msExchNotesNotesINI, msExchNotesExcludeGroups\n",
      "\n",
      "msExchTransportSettings Object Class: 1.2.840.113556.1.5.7000.62.50064\n",
      "  Short name: msExchTransportSettings\n",
      "  May contain attributes: msExchTransportExternalMaxDSNMessageAttachmentSize, msExchAttachmentFilteringAttachmentNames, msExchOrgFederatedMailbox, delivContLength, msExchTransportMaxRetriesForRemoteSiteShadow, msExchInternalSMTPServers, submissionContLength, msExchSharingRelationshipForExternalOrganizationEmail, msExchAttachmentFilteringExceptionConnectorsLink, msExchJournalingReportNDRTo, msExchTransportDumpsterHoldTime, msExchMaxDumpsterTime, msExchTransportMaxRetriesForLocalSiteShadow, msExchRelationTags, msExchConfigurationXML, msExchRMSTemplatePath, msExchTransportShadowHeartbeatRetryCount, msExchMSMCertPolicyOid, msExchTransportSettingsAVFlags, msExchTransportInternalDefaultLanguage, msExchMaxDumpsterSizePerStorageGroup, msExchTransportSettingsFlags, msExchAttachmentFilteringRejectResponse, msExchTransportExternalPostmasterAddress, msExchTransportRuleConfig, msExchTransportShadowHeartbeatTimeoutInterval, msExchTransportInternalMaxDSNMessageAttachmentSize, msExchDSNSendCopyToAdmin, msExchTransportInternalDSNReportingAuthority, msExchTransportIntraTenantMailContentType, msExchTransportExternalDSNReportingAuthority, msExchAttachmentFilteringFilterAction, msExchTLSReceiveDomainSecureList, msExchAttachmentFilteringAdminMessage, msExchTransportExternalDefaultLanguage, msExchAttachmentFilteringContentTypes, msExchTransportShadowMessageAutoDiscardInterval, msExchRecipLimit, msExchSupervisionListMaxLength, msExchTLSSendDomainSecureList\n",
      "\n",
      "msExchAdminAuditLogConfig Object Class: 1.2.840.113556.1.5.7000.62.50140\n",
      "  Short name: msExchAdminAuditLogConfig\n",
      "  May contain attributes: msExchAdminAuditLogAgeLimit, msExchAdminAuditLogExcludedCmdlets, msExchAdminAuditLogParameters, msExchAdminAuditLogCmdlets, msExchAdminAuditLogMailbox, msExchAdminAuditLogFlags\n",
      "\n",
      "group Object Class: 1.2.840.113556.1.5.8\n",
      "  Short name: group\n",
      "  Must contain attributes: groupType\n",
      "  May contain attributes: member, owner, nTGroupMembers, operatorCount, adminCount, groupAttributes, groupMembershipSAM, controlAccessRights, location, desktopProfile, nonSecurityMember, managedBy, primaryGroupToken, msDS-AzLDAPQuery, msDS-NonMembers, msDS-AzBizRule, msDS-AzBizRuleLanguage, msDS-AzLastImportedBizRulePath, msDS-AzApplicationData, msDS-PhoneticDisplayName, msDS-AzObjectGuid, msDS-AzGenericData, msDS-HABSeniorityIndex, msDS-PrimaryComputer, mail, thumbnailPhoto, msExchCoManagedByLink, msSFU30NisDomain, msOrg-IsOrganizational, oOFReplyToOriginator, msExchGroupJoinRestriction, msSFU30Name, msExchMasterAccountHistory, msOrg-GroupSubtypeName, reportToOriginator, msExchOriginatingForest, reportToOwner, msExchArbitrationMailbox, msExchGroupDepartRestriction, msExchServerAdminDelegationBL, dLMemberRule, msOrg-Leaders, hideDLMembership, msSFU30PosixMember, msOrg-OtherDisplayNames\n",
      "\n",
      "msExchConfigurationUnitContainer Object Class: 1.2.840.113556.1.5.7000.62.50104\n",
      "  Short name: msExchConfigurationUnitContainer\n",
      "  May contain attributes: msExchOrganizationUpgradePolicyLink, msExchGalsyncSourceActiveDirectorySchemaVersion, msExchGalsyncDisableLiveIdOnRemove, msExchMailboxRelease, msExchIsMSODirsyncEnabled, msExchArchiveRelease, msExchIsDirsyncStatusPending, msExchRelocateTenantStartRetired, msExchDirsyncIdSourceAttribute, mDBOverQuotaLimit, msExchManagementSiteLink, msExchConfigurationUnitLink, msExchGalsyncResetPasswordOnNextLogon, msExchRelocateTenantFlags, msExchIntendedServicePlan, msExchGalsyncPasswordFilePath, msExchMigrationFlags, msExchGalsyncLastSyncRun, msExchConfigurationXML, msExchLicenseToken, msExchObjectID, msExchRelocateTenantStartLockdown, msExchGalsyncFederatedTenantSourceAttribute, msExchServicePlan, msExchRelocateTenantTransitionCounter, msExchGalsyncProvisioningDomain, msExchRelocateTenantTargetForest, msExchMSOForwardSyncReplayList, msExchMailboxRetentionPeriod, mDBStorageQuota, msExchSyncCookie, msExchRelocateTenantStatus, msExchMaxConcurrentMigrations, msExchRelocateTenantSourceForest, msExchAuthPolicyLink, msExchGalsyncSchedule, msExchExternalDirectoryOrganizationId, mDBOverHardQuotaLimit, msExchOrganizationUpgradeRequest, msExchManagementSiteLinkSL, msExchMSOForwardSyncNonRecipientCookie, msExchOrganizationUpgradeStatus, msExchRelocateTenantSafeLockdownSchedule, msExchDirSyncServiceInstance, msExchDefaultPublicMDB, msExchRelocateTenantStartSync, msExchObjectCountQuota, msExchOrganizationUpgradePolicyLinkSL, msExchDirsyncStatus, msExchMSOForwardSyncRecipientCookie, msExchRelocateTenantCompletionTargetVector, msExchReseller, msExchGalsyncWlidUseSmtpPrimary\n",
      "\n",
      "msExchCoexistenceRelationship Object Class: 1.2.840.113556.1.5.7000.62.50169\n",
      "  Short name: msExchCoexistenceRelationship\n",
      "  May contain attributes: msExchLastUpdateTime, msExchCoexistenceFrontendTransportServers, msExchCoexistenceServers, msExchCoexistenceOnPremisesSmartHost, msExchLastExchangeChangedTime, msExchCoexistenceTransportServers, msExchCoexistenceExternalIPAddresses, msExchCoexistenceFeatureFlags, msExchCoexistenceSecureMailCertificateThumbprint, msExchCoexistenceDomains, msExchCoexistenceEdgeTransportServers\n",
      "\n",
      "msExchRole Object Class: 1.2.840.113556.1.5.7000.62.50109\n",
      "  Short name: msExchRole\n",
      "  May contain attributes: msExchRoleEntries, msExchRoleEntriesExt, msExchUserLink, msExchRoleType, msExchMailboxPlanType, msExchRoleBL, msExchRoleFlags\n",
      "\n",
      "msExchBaseClass Object Class: 1.2.840.113556.1.5.7000.62.14\n",
      "  Short name: msExchBaseClass\n",
      "  May contain attributes: showInAddressBook, legacyExchangeDN, msExchUnmergedAttsPt, msExchCU, msExchPOP3Settings, msExchTenantCountry, msExchEwsWellKnownApplicationPolicies, msExchShadowPager, msExchShadowL, msExchVersion, msExchContentConversionSettings, msExchShadowOtherFacsimileTelephone, msExchHABRootDepartmentLink, replicatedObjectVersion, msExchShadowGivenName, msExchManagementSettings, msExchDirsyncStatusAck, msExchShadowDepartment, msExchServerAssociationBL, msExchShadowTelephoneAssistant, msExchShadowMailNickname, msExchHideFromAddressLists, msExchShadowMobile, msExchInconsistentState, msExchCanaryData2, msExchMobileSettings, msExchMultiMailboxLocationsLink, unmergedAtts, msExchUserHoldPolicies, msExchOnPremiseObjectGuid, msExchELCMailboxFlags, msExchShadowHomePhone, msExchShadowManagerLink, msExchShadowSn, msExchDirsyncID, msExchEdgeSyncConfigFlags, msExchShadowInitials, msExchProvisioningFlags, heuristics, msExchIMAP4Settings, msExchShadowPhysicalDeliveryOfficeName, msExchConfigurationXML, msExchTransportOutboundSettings, msExchDefaultPublicFolderMailbox, msExchLastExchangeChangedTime, msExchForestModeFlag, msExchShadowAssistantName, msExchObjectID, msExchRecipientValidatorCookies, msExchShadowCompany, msExchEdgeSyncCookies, msExchTransportInboundSettings, msExchShadowWWWHomePage, msExchShadowTitle, msExchExternalDirectoryObjectId, msExchShadowFacsimileTelephoneNumber, msExchOURoot, msExchADCGlobalNames, msExchProvisioningTags, msExchShadowCo, replicationSignature, msExchShadowCountryCode, msExchIsMSODirsynced, msExchShadowTelephoneNumber, msExchOWASettings, msExchShadowStreetAddress, msExchSetupStatus, msExchCanaryData0, msExchMultiMailboxGUIDs, msExchShadowInfo, msExchShadowOtherTelephone, msExchShadowDisplayName, msExchCapabilityIdentifiers, msExchShadowProxyAddresses, msExchObjectCountQuota, msExchShadowOtherHomePhone, msExchShadowC, msExchEdgeSyncSourceGuid, msExchShadowWindowsLiveID, msExchEwsEnabled, msExchShadowSt, msExchCorrelationId, msExchEwsExceptions, msExchCanaryData1, msExchServerAssociationLink, msExchConfigurationUnitBL, msExchEwsApplicationAccessPolicy, msExchDirsyncAuthorityMetadata, msExchALObjectVersion, msExchShadowPostalCode\n",
      "\n"
     ]
    }
   ],
   "source": [
    "for k, v in server.schema.object_classes.items():\n",
    "    if any(map(lambda a: 'mail' in a.lower(), v.may_contain)):\n",
    "        print(k, v)\n"
   ]
  },
  {
   "cell_type": "code",
   "execution_count": 308,
   "metadata": {},
   "outputs": [],
   "source": [
    "from json import loads, dumps\n",
    "\n",
    "schema = loads(server.schema.to_json())"
   ]
  },
  {
   "cell_type": "code",
   "execution_count": 312,
   "metadata": {},
   "outputs": [
    {
     "data": {
      "text/plain": [
       "dict_keys(['whenChanged', 'instanceType', 'dITContentRules', 'distinguishedName', 'objectGUID', 'dSCorePropagationData', 'objectCategory', 'objectClasses', 'attributeTypes', 'uSNChanged', 'whenCreated', 'objectClass', 'name', 'modifyTimeStamp', 'uSNCreated', 'cn', 'systemFlags'])"
      ]
     },
     "execution_count": 312,
     "metadata": {},
     "output_type": "execute_result"
    }
   ],
   "source": [
    "schema['raw'].keys()"
   ]
  },
  {
   "cell_type": "code",
   "execution_count": 282,
   "metadata": {},
   "outputs": [
    {
     "data": {
      "text/plain": [
       "3924"
      ]
     },
     "execution_count": 282,
     "metadata": {},
     "output_type": "execute_result"
    }
   ],
   "source": [
    "import re\n",
    "\n",
    "attr_re = re.compile(r\"NAME '(.*)' SYNTAX\")\n",
    "attrs = []\n",
    "for attr in schema['raw']['attributeTypes']:\n",
    "    m = attr_re.search(attr)\n",
    "    if m: attrs.append(m.group(1))\n",
    "        \n",
    "len(attrs)"
   ]
  },
  {
   "cell_type": "code",
   "execution_count": 300,
   "metadata": {},
   "outputs": [
    {
     "data": {
      "text/plain": [
       "['otherMailbox',\n",
       " 'monitoringCachedViaMail',\n",
       " 'mailNickname',\n",
       " 'monitoringMailUpdateUnits',\n",
       " 'mailAddress',\n",
       " 'sendEMailMessage',\n",
       " 'monitoringMailUpdateInterval',\n",
       " 'replicationMailMsgSize',\n",
       " 'mail']"
      ]
     },
     "execution_count": 300,
     "metadata": {},
     "output_type": "execute_result"
    }
   ],
   "source": [
    "email_attrs = list(filter(lambda a: 'mail' in a.lower() and 'msExch' not in a, attrs))\n",
    "email_attrs"
   ]
  },
  {
   "cell_type": "code",
   "execution_count": 319,
   "metadata": {},
   "outputs": [
    {
     "data": {
      "text/plain": [
       "True"
      ]
     },
     "execution_count": 319,
     "metadata": {},
     "output_type": "execute_result"
    }
   ],
   "source": [
    "connection.search('cn=Users,dc=oorrbg,dc=local', '(name=*)', attributes = email_attrs)"
   ]
  },
  {
   "cell_type": "code",
   "execution_count": 315,
   "metadata": {},
   "outputs": [
    {
     "data": {
      "text/plain": [
       "392"
      ]
     },
     "execution_count": 315,
     "metadata": {},
     "output_type": "execute_result"
    }
   ],
   "source": [
    "res = list(connection.entries)\n",
    "len(res)"
   ]
  },
  {
   "cell_type": "code",
   "execution_count": 316,
   "metadata": {},
   "outputs": [
    {
     "name": "stdout",
     "output_type": "stream",
     "text": [
      "{'mail': ['ortopedia.segreteria@asst-pg23.it']}\n",
      "{'mail': ['otorinolaringoiatria.segreteria@asst-pg23.it']}\n",
      "{'mail': ['epi@asst-pg23.it']}\n"
     ]
    }
   ],
   "source": [
    "for e in res: \n",
    "    dct = e.entry_get_attributes_dict()\n",
    "    if dct: print(dct)"
   ]
  },
  {
   "cell_type": "code",
   "execution_count": 293,
   "metadata": {},
   "outputs": [
    {
     "data": {
      "text/plain": [
       "1000"
      ]
     },
     "execution_count": 293,
     "metadata": {},
     "output_type": "execute_result"
    }
   ],
   "source": [
    "len(extr)"
   ]
  },
  {
   "cell_type": "code",
   "execution_count": null,
   "metadata": {},
   "outputs": [],
   "source": []
  }
 ],
 "metadata": {
  "kernelspec": {
   "display_name": "Python 3",
   "language": "python",
   "name": "python3"
  },
  "language_info": {
   "codemirror_mode": {
    "name": "ipython",
    "version": 3
   },
   "file_extension": ".py",
   "mimetype": "text/x-python",
   "name": "python",
   "nbconvert_exporter": "python",
   "pygments_lexer": "ipython3",
   "version": "3.8.0"
  }
 },
 "nbformat": 4,
 "nbformat_minor": 4
}
